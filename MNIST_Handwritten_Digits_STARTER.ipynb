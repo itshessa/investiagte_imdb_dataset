{
 "cells": [
  {
   "cell_type": "markdown",
   "metadata": {
    "id": "yf7VR1fMXaw9"
   },
   "source": [
    "# Introduction\n",
    "\n",
    "In this project, you will build a neural network of your own design to evaluate the MNIST dataset.\n",
    "\n",
    "Some of the benchmark results on MNIST include can be found [on Yann LeCun's page](https://webcache.googleusercontent.com/search?q=cache:stAVPik6onEJ:yann.lecun.com/exdb/mnist) and include:\n",
    "\n",
    "88% [Lecun et al., 1998](https://hal.science/hal-03926082/document)\n",
    "\n",
    "95.3% [Lecun et al., 1998](https://hal.science/hal-03926082v1/document)\n",
    "\n",
    "99.65% [Ciresan et al., 2011](http://people.idsia.ch/~juergen/ijcai2011.pdf)\n",
    "\n",
    "\n",
    "MNIST is a great dataset for sanity checking your models, since the accuracy levels achieved by large convolutional neural networks and small linear models are both quite high. This makes it important to be familiar with the data.\n",
    "\n",
    "## Installation"
   ]
  },
  {
   "cell_type": "code",
   "execution_count": 1,
   "metadata": {
    "id": "8X3nftN7XaxJ"
   },
   "outputs": [],
   "source": [
    "# Update the PATH to include the user installation directory.\n",
    "import os\n",
    "os.environ['PATH'] = f\"{os.environ['PATH']}:/root/.local/bin\"\n",
    "\n",
    "# Restart the Kernel before you move on to the next step."
   ]
  },
  {
   "cell_type": "markdown",
   "metadata": {
    "id": "P1bluAtaXaxN"
   },
   "source": [
    "#### Important: Restart the Kernel before you move on to the next step."
   ]
  },
  {
   "cell_type": "code",
   "execution_count": 2,
   "metadata": {
    "id": "WoP0kvdbXaxO"
   },
   "outputs": [],
   "source": [
    "# Install requirements\n",
    "#!python -m pip install -r requirements.txt"
   ]
  },
  {
   "cell_type": "markdown",
   "metadata": {
    "id": "W03e5QcIXaxU"
   },
   "source": [
    "## Imports"
   ]
  },
  {
   "cell_type": "code",
   "execution_count": 3,
   "metadata": {
    "id": "y1coxPj3XaxW"
   },
   "outputs": [],
   "source": [
    "## This cell contains the essential imports you will need – DO NOT CHANGE THE CONTENTS! ##\n",
    "import os\n",
    "import torch\n",
    "import torch.nn as nn\n",
    "import torch.nn.functional as F\n",
    "import torch.optim as optim\n",
    "import torchvision\n",
    "import torchvision.transforms as transforms\n",
    "import matplotlib.pyplot as plt\n",
    "import numpy as np"
   ]
  },
  {
   "cell_type": "markdown",
   "metadata": {
    "id": "dgZBPlgAXaxY"
   },
   "source": [
    "## Load the Dataset\n",
    "\n",
    "Specify your transforms as a list if you intend to .\n",
    "The transforms module is already loaded as `transforms`.\n",
    "\n",
    "MNIST is fortunately included in the torchvision module.\n",
    "Then, you can create your dataset using the `MNIST` object from `torchvision.datasets` ([the documentation is available here](https://pytorch.org/vision/stable/datasets.html#mnist)).\n",
    "Make sure to specify `download=True`!\n",
    "\n",
    "Once your dataset is created, you'll also need to define a `DataLoader` from the `torch.utils.data` module for both the train and the test set."
   ]
  },
  {
   "cell_type": "code",
   "execution_count": 4,
   "metadata": {
    "colab": {
     "base_uri": "https://localhost:8080/"
    },
    "id": "C-w1Je-7XaxY",
    "outputId": "620a04f8-cff9-42f4-97c4-2e3737a38247",
    "scrolled": true
   },
   "outputs": [
    {
     "name": "stdout",
     "output_type": "stream",
     "text": [
      "Downloading http://yann.lecun.com/exdb/mnist/train-images-idx3-ubyte.gz\n",
      "Failed to download (trying next):\n",
      "HTTP Error 403: Forbidden\n",
      "\n",
      "Downloading https://ossci-datasets.s3.amazonaws.com/mnist/train-images-idx3-ubyte.gz\n",
      "Downloading https://ossci-datasets.s3.amazonaws.com/mnist/train-images-idx3-ubyte.gz to ./data/MNIST/raw/train-images-idx3-ubyte.gz\n"
     ]
    },
    {
     "name": "stderr",
     "output_type": "stream",
     "text": [
      "100%|██████████| 9912422/9912422 [00:00<00:00, 50708889.30it/s]\n"
     ]
    },
    {
     "name": "stdout",
     "output_type": "stream",
     "text": [
      "Extracting ./data/MNIST/raw/train-images-idx3-ubyte.gz to ./data/MNIST/raw\n",
      "\n",
      "Downloading http://yann.lecun.com/exdb/mnist/train-labels-idx1-ubyte.gz\n",
      "Failed to download (trying next):\n",
      "HTTP Error 403: Forbidden\n",
      "\n",
      "Downloading https://ossci-datasets.s3.amazonaws.com/mnist/train-labels-idx1-ubyte.gz\n",
      "Downloading https://ossci-datasets.s3.amazonaws.com/mnist/train-labels-idx1-ubyte.gz to ./data/MNIST/raw/train-labels-idx1-ubyte.gz\n"
     ]
    },
    {
     "name": "stderr",
     "output_type": "stream",
     "text": [
      "100%|██████████| 28881/28881 [00:00<00:00, 1846355.53it/s]"
     ]
    },
    {
     "name": "stdout",
     "output_type": "stream",
     "text": [
      "Extracting ./data/MNIST/raw/train-labels-idx1-ubyte.gz to ./data/MNIST/raw\n",
      "\n",
      "Downloading http://yann.lecun.com/exdb/mnist/t10k-images-idx3-ubyte.gz\n"
     ]
    },
    {
     "name": "stderr",
     "output_type": "stream",
     "text": [
      "\n"
     ]
    },
    {
     "name": "stdout",
     "output_type": "stream",
     "text": [
      "Failed to download (trying next):\n",
      "HTTP Error 403: Forbidden\n",
      "\n",
      "Downloading https://ossci-datasets.s3.amazonaws.com/mnist/t10k-images-idx3-ubyte.gz\n",
      "Downloading https://ossci-datasets.s3.amazonaws.com/mnist/t10k-images-idx3-ubyte.gz to ./data/MNIST/raw/t10k-images-idx3-ubyte.gz\n"
     ]
    },
    {
     "name": "stderr",
     "output_type": "stream",
     "text": [
      "100%|██████████| 1648877/1648877 [00:00<00:00, 12407834.85it/s]\n"
     ]
    },
    {
     "name": "stdout",
     "output_type": "stream",
     "text": [
      "Extracting ./data/MNIST/raw/t10k-images-idx3-ubyte.gz to ./data/MNIST/raw\n",
      "\n",
      "Downloading http://yann.lecun.com/exdb/mnist/t10k-labels-idx1-ubyte.gz\n",
      "Failed to download (trying next):\n",
      "HTTP Error 403: Forbidden\n",
      "\n",
      "Downloading https://ossci-datasets.s3.amazonaws.com/mnist/t10k-labels-idx1-ubyte.gz\n",
      "Downloading https://ossci-datasets.s3.amazonaws.com/mnist/t10k-labels-idx1-ubyte.gz to ./data/MNIST/raw/t10k-labels-idx1-ubyte.gz\n"
     ]
    },
    {
     "name": "stderr",
     "output_type": "stream",
     "text": [
      "100%|██████████| 4542/4542 [00:00<00:00, 2963679.02it/s]"
     ]
    },
    {
     "name": "stdout",
     "output_type": "stream",
     "text": [
      "Extracting ./data/MNIST/raw/t10k-labels-idx1-ubyte.gz to ./data/MNIST/raw\n",
      "\n"
     ]
    },
    {
     "name": "stderr",
     "output_type": "stream",
     "text": [
      "\n"
     ]
    }
   ],
   "source": [
    "# Define transforms\n",
    "transform = transforms.Compose([\n",
    "    transforms.ToTensor(),\n",
    "    transforms.Normalize((0.5,), (0.5,))\n",
    "])\n",
    "\n",
    "# Load the dataset\n",
    "train_dataset = torchvision.datasets.MNIST(root='./data', train=True, transform=transform, download=True)\n",
    "test_dataset = torchvision.datasets.MNIST(root='./data', train=False, transform=transform, download=True)\n",
    "\n",
    "# Define DataLoader\n",
    "train_loader = torch.utils.data.DataLoader(dataset=train_dataset, batch_size=64, shuffle=True)\n",
    "test_loader = torch.utils.data.DataLoader(dataset=test_dataset, batch_size=64, shuffle=False)"
   ]
  },
  {
   "cell_type": "markdown",
   "metadata": {
    "id": "e2RfdUtpXaxa"
   },
   "source": [
    "## Justify your preprocessing\n",
    "\n",
    "In your own words, why did you choose the transforms you chose? If you didn't use any preprocessing steps, why not?"
   ]
  },
  {
   "cell_type": "markdown",
   "metadata": {
    "id": "a_1liCSXXaxb"
   },
   "source": [
    "**Justification**\n",
    "\n",
    "The preprocessing steps are applied to each of the MNIST images. First, converting the images to PyTorch Tensors, and second, normalizing the pixel values within the range of [-1, 1]. The data must be in tensor format to work with PyTorch models, and normalization can help speed up training and even increase performance, it can do this by guaranteeing that the input data’s mean is 0 and standard deviation is 1, which can aid in stabilizing and enhancing gradient-based optimization."
   ]
  },
  {
   "cell_type": "markdown",
   "metadata": {
    "id": "HkWlEDLnXaxc"
   },
   "source": [
    "## Explore the Dataset\n",
    "Using matplotlib, numpy, and torch, explore the dimensions of your data.\n",
    "\n",
    "You can view images using the `show5` function defined below – it takes a data loader as an argument.\n",
    "Remember that normalized images will look really weird to you! You may want to try changing your transforms to view images.\n",
    "Typically using no transforms other than `toTensor()` works well for viewing – but not as well for training your network.\n",
    "If `show5` doesn't work, go back and check your code for creating your data loaders and your training/test sets."
   ]
  },
  {
   "cell_type": "code",
   "execution_count": 5,
   "metadata": {
    "id": "HJDy_qk-Xaxd"
   },
   "outputs": [],
   "source": [
    "## This cell contains a function for showing 5 images from a dataloader – DO NOT CHANGE THE CONTENTS! ##\n",
    "def show5(imgage_loader):\n",
    "    img_batch = next(iter(imgage_loader))\n",
    "    images, labels = img_batch\n",
    "    fig, ax = plt.subplots(1, 5, figsize=(15, 3))\n",
    "    for i in range(5):\n",
    "        img = images[i].numpy().squeeze()\n",
    "        ax[i].imshow(img, cmap='gray')\n",
    "        ax[i].set_title(f'Label: {labels[i].item()}')\n",
    "        ax[i].axis('off')\n",
    "    plt.show()"
   ]
  },
  {
   "cell_type": "code",
   "execution_count": 6,
   "metadata": {
    "colab": {
     "base_uri": "https://localhost:8080/",
     "height": 294
    },
    "id": "D0EKLGRqXaxd",
    "outputId": "446170b0-766f-4abc-c0ab-d6ff247d80a7"
   },
   "outputs": [
    {
     "data": {
      "image/png": "[encoded data removed]",
      "text/plain": [
       "<Figure size 1500x300 with 5 Axes>"
      ]
     },
     "metadata": {},
     "output_type": "display_data"
    },
    {
     "name": "stdout",
     "output_type": "stream",
     "text": [
      "Image tensor dimention: torch.Size([64, 1, 28, 28])\n",
      "Label tensor dimention: torch.Size([64])\n"
     ]
    }
   ],
   "source": [
    "# Explore data\n",
    "show5(train_loader)\n",
    "# Check the dimensions of the data\n",
    "data_iter = next(iter(train_loader))\n",
    "images, labels = data_iter\n",
    "print(f'Image tensor dimention: {images.shape}')\n",
    "print(f'Label tensor dimention: {labels.shape}')\n"
   ]
  },
  {
   "cell_type": "markdown",
   "metadata": {
    "id": "y9volX7nXaxe"
   },
   "source": [
    "## Build your Neural Network\n",
    "Using the layers in `torch.nn` (which has been imported as `nn`) and the `torch.nn.functional` module (imported as `F`), construct a neural network based on the parameters of the dataset.\n",
    "Use any architecture you like.\n",
    "\n",
    "*Note*: If you did not flatten your tensors in your transforms or as part of your preprocessing and you are using only `Linear` layers, make sure to use the `Flatten` layer in your network!"
   ]
  },
  {
   "cell_type": "code",
   "execution_count": 7,
   "metadata": {
    "id": "18Y_9-JcXaxf"
   },
   "outputs": [],
   "source": [
    "# Define Neural Network Architecture\n",
    "class MNIST_Net(nn.Module):\n",
    "    def __init__(self):\n",
    "        super(MNIST_Net, self).__init__()\n",
    "        self.flatten = nn.Flatten()\n",
    "        self.fc1 = nn.Linear(28 * 28, 128)\n",
    "        self.fc2 = nn.Linear(128, 64)\n",
    "        self.fc3 = nn.Linear(64, 10)\n",
    "        self.dropout = nn.Dropout(0.2)\n",
    "\n",
    "    def forward(self, x):\n",
    "        x = self.flatten(x)\n",
    "        x = F.relu(self.fc1(x))\n",
    "        x = self.dropout(x)\n",
    "        x = F.relu(self.fc2(x))\n",
    "        x = self.dropout(x)\n",
    "        x = self.fc3(x)\n",
    "        return x"
   ]
  },
  {
   "cell_type": "markdown",
   "metadata": {
    "id": "JP2gQMCgXaxf"
   },
   "source": [
    "Specify a loss function and an optimizer, and instantiate the model.\n",
    "\n",
    "If you use a less common loss function, please note why you chose that loss function in a comment."
   ]
  },
  {
   "cell_type": "code",
   "execution_count": 8,
   "metadata": {
    "colab": {
     "base_uri": "https://localhost:8080/"
    },
    "id": "kFiyfJC3Xaxg",
    "outputId": "fc425f97-30bb-4910-b67a-19028c8d706e"
   },
   "outputs": [
    {
     "name": "stdout",
     "output_type": "stream",
     "text": [
      "MNIST_Net(\n",
      "  (flatten): Flatten(start_dim=1, end_dim=-1)\n",
      "  (fc1): Linear(in_features=784, out_features=128, bias=True)\n",
      "  (fc2): Linear(in_features=128, out_features=64, bias=True)\n",
      "  (fc3): Linear(in_features=64, out_features=10, bias=True)\n",
      "  (dropout): Dropout(p=0.2, inplace=False)\n",
      ")\n"
     ]
    }
   ],
   "source": [
    "# Check if GPU is available\n",
    "device = torch.device(\"cuda\" if torch.cuda.is_available() else \"cpu\")\n",
    "\n",
    "# Instantiate the model\n",
    "model = MNIST_Net().to(device)\n",
    "\n",
    "# Define the loss function and optimizer\n",
    "criterion = nn.CrossEntropyLoss()  # Commonly used for multi-class classification\n",
    "optimizer = optim.Adam(model.parameters(), lr=0.001)  # Adam optimizer with a learning rate of 0.001\n",
    "\n",
    "print(model)"
   ]
  },
  {
   "cell_type": "markdown",
   "metadata": {
    "id": "zrjCX7fEXaxh"
   },
   "source": [
    "## Running your Neural Network\n",
    "Use whatever method you like to train your neural network, and ensure you record the average loss at each epoch.\n",
    "Don't forget to use `torch.device()` and the `.to()` method for both your model and your data if you are using GPU!\n",
    "\n",
    "If you want to print your loss **during** each epoch, you can use the `enumerate` function and print the loss after a set number of batches. 250 batches works well for most people!"
   ]
  },
  {
   "cell_type": "code",
   "execution_count": 9,
   "metadata": {
    "colab": {
     "base_uri": "https://localhost:8080/"
    },
    "id": "dPaT2eN7Xaxi",
    "outputId": "2f3c4461-6a0e-4b5f-8ed3-1dfa9a76c267"
   },
   "outputs": [
    {
     "name": "stdout",
     "output_type": "stream",
     "text": [
      "Epoch [1/5], Step [250/938], Loss: 0.5612\n",
      "Epoch [1/5], Step [500/938], Loss: 0.3966\n",
      "Epoch [1/5], Step [750/938], Loss: 0.4519\n",
      "Epoch [1/5], Average Loss: 0.4782\n",
      "Epoch [2/5], Step [250/938], Loss: 0.3180\n",
      "Epoch [2/5], Step [500/938], Loss: 0.1473\n",
      "Epoch [2/5], Step [750/938], Loss: 0.0995\n",
      "Epoch [2/5], Average Loss: 0.2538\n",
      "Epoch [3/5], Step [250/938], Loss: 0.3359\n",
      "Epoch [3/5], Step [500/938], Loss: 0.1798\n",
      "Epoch [3/5], Step [750/938], Loss: 0.1659\n",
      "Epoch [3/5], Average Loss: 0.2031\n",
      "Epoch [4/5], Step [250/938], Loss: 0.0743\n",
      "Epoch [4/5], Step [500/938], Loss: 0.2254\n",
      "Epoch [4/5], Step [750/938], Loss: 0.0763\n",
      "Epoch [4/5], Average Loss: 0.1792\n",
      "Epoch [5/5], Step [250/938], Loss: 0.1605\n",
      "Epoch [5/5], Step [500/938], Loss: 0.1790\n",
      "Epoch [5/5], Step [750/938], Loss: 0.4815\n",
      "Epoch [5/5], Average Loss: 0.1623\n"
     ]
    }
   ],
   "source": [
    "# Define training function\n",
    "def train_model(model, train_loader, criterion, optimizer, device, epochs=5):\n",
    "    model.train()\n",
    "    losses = []\n",
    "    for epoch in range(epochs):\n",
    "        run_loss = 0.0\n",
    "        for batch_idx, (images, labels) in enumerate(train_loader):\n",
    "            images, labels = images.to(device), labels.to(device)\n",
    "\n",
    "            optimizer.zero_grad()\n",
    "            outputs = model(images)\n",
    "            loss = criterion(outputs, labels)\n",
    "            loss.backward()\n",
    "            optimizer.step()\n",
    "            run_loss += loss.item()\n",
    "\n",
    "            if (batch_idx + 1) % 250 == 0:\n",
    "                print(f'Epoch [{epoch+1}/{epochs}], Step [{batch_idx+1}/{len(train_loader)}], Loss: {loss.item():.4f}')\n",
    "\n",
    "        avg_loss = run_loss / len(train_loader)\n",
    "        losses.append(avg_loss)\n",
    "        print(f'Epoch [{epoch+1}/{epochs}], Average Loss: {avg_loss:.4f}')\n",
    "    return losses\n",
    "# Training the model and geting the training losses\n",
    "epochs = 5\n",
    "train_losses = train_model(model, train_loader, criterion, optimizer, device, epochs)"
   ]
  },
  {
   "cell_type": "markdown",
   "metadata": {
    "id": "mUV4Hx2CXaxi"
   },
   "source": [
    "Plot the training loss (and validation loss/accuracy, if recorded)."
   ]
  },
  {
   "cell_type": "code",
   "execution_count": 10,
   "metadata": {
    "colab": {
     "base_uri": "https://localhost:8080/",
     "height": 472
    },
    "id": "yWRKCDbrXaxj",
    "outputId": "0fe985ac-661c-40c2-bb97-4f9db7b209c6"
   },
   "outputs": [
    {
     "data": {
      "image/png": "[encoded data removed]",
      "text/plain": [
       "<Figure size 640x480 with 1 Axes>"
      ]
     },
     "metadata": {},
     "output_type": "display_data"
    }
   ],
   "source": [
    "# Plot the training losses\n",
    "plt.plot(range(1, epochs + 1), train_losses, marker='o')\n",
    "plt.title('Epochs vs Training Loss')\n",
    "plt.xlabel('Epoch')\n",
    "plt.ylabel('Average Loss')\n",
    "plt.grid(True)\n",
    "plt.show()\n"
   ]
  },
  {
   "cell_type": "markdown",
   "metadata": {
    "id": "FZXS8I4hXaxk"
   },
   "source": [
    "## Testing your model\n",
    "Using the previously created `DataLoader` for the test set, compute the percentage of correct predictions using the highest probability prediction.\n",
    "\n",
    "If your accuracy is over 90%, great work, but see if you can push a bit further!\n",
    "If your accuracy is under 90%, you'll need to make improvements.\n",
    "Go back and check your model architecture, loss function, and optimizer to make sure they're appropriate for an image classification task."
   ]
  },
  {
   "cell_type": "code",
   "execution_count": 12,
   "metadata": {
    "colab": {
     "base_uri": "https://localhost:8080/"
    },
    "id": "Km06Z5lhXaxk",
    "outputId": "13924b2a-67c2-46ed-9ea1-b7fc89260753"
   },
   "outputs": [
    {
     "name": "stdout",
     "output_type": "stream",
     "text": [
      "Model Accuracy: 96.30%\n"
     ]
    }
   ],
   "source": [
    "# Define testing function\n",
    "def test_model(model, test_loader, device):\n",
    "    model.eval()\n",
    "    correct_pred = 0\n",
    "    total_img = 0\n",
    "    with torch.no_grad():\n",
    "        for images, labels in test_loader:\n",
    "            images, labels = images.to(device), labels.to(device)\n",
    "            outputs = model(images)\n",
    "            _, predicted = torch.max(outputs.data, 1)\n",
    "            total_img += labels.size(0)\n",
    "            correct_pred += (predicted == labels).sum().item()\n",
    "    accuracy = 100 * correct_pred / total_img\n",
    "    print(f'Model Accuracy: {accuracy:.2f}%')\n",
    "\n",
    "# Test the model\n",
    "test_model(model, test_loader, device)"
   ]
  },
  {
   "cell_type": "markdown",
   "metadata": {
    "id": "SHndquVGXaxl"
   },
   "source": [
    "## Improving your model\n",
    "\n",
    "Once your model is done training, try tweaking your hyperparameters and training again below to improve your accuracy on the test set!"
   ]
  },
  {
   "cell_type": "code",
   "execution_count": 14,
   "metadata": {
    "colab": {
     "base_uri": "https://localhost:8080/",
     "height": 1000
    },
    "id": "m2ZRy42jaIH0",
    "outputId": "82d0e23f-bfda-482e-881c-7dedb3471bbc"
   },
   "outputs": [
    {
     "name": "stdout",
     "output_type": "stream",
     "text": [
      "Epoch [1/10], Step [250/938], Loss: 0.2211\n",
      "Epoch [1/10], Step [500/938], Loss: 0.0877\n",
      "Epoch [1/10], Step [750/938], Loss: 0.1074\n",
      "Epoch [1/10], Average Loss: 0.1318\n",
      "Epoch [2/10], Step [250/938], Loss: 0.1974\n",
      "Epoch [2/10], Step [500/938], Loss: 0.3134\n",
      "Epoch [2/10], Step [750/938], Loss: 0.1802\n",
      "Epoch [2/10], Average Loss: 0.1226\n",
      "Epoch [3/10], Step [250/938], Loss: 0.0683\n",
      "Epoch [3/10], Step [500/938], Loss: 0.0560\n",
      "Epoch [3/10], Step [750/938], Loss: 0.0911\n",
      "Epoch [3/10], Average Loss: 0.1193\n",
      "Epoch [4/10], Step [250/938], Loss: 0.0837\n",
      "Epoch [4/10], Step [500/938], Loss: 0.1159\n",
      "Epoch [4/10], Step [750/938], Loss: 0.1874\n",
      "Epoch [4/10], Average Loss: 0.1142\n",
      "Epoch [5/10], Step [250/938], Loss: 0.2104\n",
      "Epoch [5/10], Step [500/938], Loss: 0.1459\n",
      "Epoch [5/10], Step [750/938], Loss: 0.1812\n",
      "Epoch [5/10], Average Loss: 0.1082\n",
      "Epoch [6/10], Step [250/938], Loss: 0.1229\n",
      "Epoch [6/10], Step [500/938], Loss: 0.1506\n",
      "Epoch [6/10], Step [750/938], Loss: 0.1310\n",
      "Epoch [6/10], Average Loss: 0.1077\n",
      "Epoch [7/10], Step [250/938], Loss: 0.0643\n",
      "Epoch [7/10], Step [500/938], Loss: 0.0854\n",
      "Epoch [7/10], Step [750/938], Loss: 0.0651\n",
      "Epoch [7/10], Average Loss: 0.1046\n",
      "Epoch [8/10], Step [250/938], Loss: 0.1280\n",
      "Epoch [8/10], Step [500/938], Loss: 0.0180\n",
      "Epoch [8/10], Step [750/938], Loss: 0.3082\n",
      "Epoch [8/10], Average Loss: 0.1024\n",
      "Epoch [9/10], Step [250/938], Loss: 0.0294\n",
      "Epoch [9/10], Step [500/938], Loss: 0.0775\n",
      "Epoch [9/10], Step [750/938], Loss: 0.1321\n",
      "Epoch [9/10], Average Loss: 0.0982\n",
      "Epoch [10/10], Step [250/938], Loss: 0.0845\n",
      "Epoch [10/10], Step [500/938], Loss: 0.0436\n",
      "Epoch [10/10], Step [750/938], Loss: 0.2218\n",
      "Epoch [10/10], Average Loss: 0.0968\n"
     ]
    },
    {
     "data": {
      "image/png": "[encoded data removed]",
      "text/plain": [
       "<Figure size 640x480 with 1 Axes>"
      ]
     },
     "metadata": {},
     "output_type": "display_data"
    },
    {
     "name": "stdout",
     "output_type": "stream",
     "text": [
      "Model Accuracy: 97.52%\n"
     ]
    }
   ],
   "source": [
    "## YOUR CODE HERE ##\n",
    "# Defining optimizer with lower learning rate\n",
    "optimizer = optim.Adam(model.parameters(), lr=0.0005)\n",
    "\n",
    "# Training model with a lower learning rate and with 10 epochs\n",
    "epochs = 10\n",
    "losses = train_model(model, train_loader, criterion, optimizer, device, epochs)\n",
    "\n",
    "# Plot the training losses\n",
    "plt.plot(range(1, epochs + 1), losses, marker='o')\n",
    "plt.title('Epochs vs Training Loss')\n",
    "plt.xlabel('Epoch')\n",
    "plt.ylabel('Average Loss')\n",
    "plt.grid(True)\n",
    "plt.show()\n",
    "\n",
    "# Test the network\n",
    "test_model(model, test_loader, device)"
   ]
  },
  {
   "cell_type": "markdown",
   "metadata": {
    "id": "Dhtrl9Z3Xaxm"
   },
   "source": [
    "## Saving your model\n",
    "Using `torch.save`, save your model for future loading."
   ]
  },
  {
   "cell_type": "code",
   "execution_count": null,
   "metadata": {
    "colab": {
     "base_uri": "https://localhost:8080/"
    },
    "id": "PIGw_jK-Xaxm",
    "outputId": "14f14ef9-60a9-4340-a110-e7bdf2ede628"
   },
   "outputs": [
    {
     "name": "stdout",
     "output_type": "stream",
     "text": [
      "Model saved successfully!\n"
     ]
    }
   ],
   "source": [
    "# Save your model\n",
    "torch.save(model, 'mnist_model.pth')\n",
    "print(\"Model saved successfully!\")"
   ]
  },
  {
   "cell_type": "code",
   "execution_count": null,
   "metadata": {
    "id": "Ydj7gJuwXaxn"
   },
   "outputs": [],
   "source": []
  }
 ],
 "metadata": {
  "colab": {
   "provenance": []
  },
  "kernelspec": {
   "display_name": "Python 3 (ipykernel)",
   "language": "python",
   "name": "python3"
  },
  "language_info": {
   "codemirror_mode": {
    "name": "ipython",
    "version": 3
   },
   "file_extension": ".py",
   "mimetype": "text/x-python",
   "name": "python",
   "nbconvert_exporter": "python",
   "pygments_lexer": "ipython3",
   "version": "3.9.12"
  }
 },
 "nbformat": 4,
 "nbformat_minor": 1
}
